{
  "nbformat": 4,
  "nbformat_minor": 0,
  "metadata": {
    "colab": {
      "name": "Final JSON based IMS.ipynb",
      "provenance": []
    },
    "kernelspec": {
      "name": "python3",
      "display_name": "Python 3"
    },
    "language_info": {
      "name": "python"
    }
  },
  "cells": [
    {
      "cell_type": "code",
      "metadata": {
        "id": "wi3G1kyK3rtD"
      },
      "source": [
        "Record = {1001:{'Name' :'Parle-G'       ,'Price':10    ,'Exp.date':'Jan22'    ,'Quantity':1000    ,'Discount':5 },\n",
        "          1002:{'Name' :'Parle-G'       ,'Price':50    ,'Exp.date':'Jan22'    ,'Quantity':2000    ,'Discount':5 },\n",
        "          1003:{'Name' :'Good-Day'      ,'Price':10    ,'Exp.date':'Dec21'    ,'Quantity':650     ,'Discount':2 },\n",
        "          1004:{'Name' :' Happy '       ,'Price':20    ,'Exp.date':'Feb22'    ,'Quantity':700     ,'Discount':10 },\n",
        "          1005:{'Name' :'MarriGold'     ,'Price':10    ,'Exp.date':'Nov21'    ,'Quantity':666     ,'Discount':7 },\n",
        "          1006:{'Name' :'CreamBuis'     ,'Price':55    ,'Exp.date':'Mar22'    ,'Quantity':987     ,'Discount':14 },\n",
        "          1007:{'Name' :'Momsmajic'     ,'Price':60    ,'Exp.date':'Dec22'    ,'Quantity':546     ,'Discount':5 },\n",
        "          1008:{'Name' :'Shantabai'     ,'Price':10    ,'Exp.date':'Dec24'    ,'Quantity':100     ,'Discount':2 },\n",
        "          1009:{'Name' :'SuparNirama'   ,'Price':55    ,'Exp.date':'Dec25'    ,'Quantity':540     ,'Discount':5 },\n",
        "          1010:{'Name' :'Sargam Soap'   ,'Price':110   ,'Exp.date':'Feb22'    ,'Quantity':5555    ,'Discount':10 },\n",
        "          1011:{'Name' :'Rin'           ,'Price':25    ,'Exp.date':'Apr24'    ,'Quantity':456     ,'Discount':4 },\n",
        "          1012:{'Name' :'Santoor'       ,'Price':50    ,'Exp.date':'Mar22'    ,'Quantity':987     ,'Discount':8 },\n",
        "          1013:{'Name' :'Lifeboy'       ,'Price':80    ,'Exp.date':'Feb21 '   ,'Quantity':6547    ,'Discount':8 },\n",
        "          1014:{'Name' :'Lux'           ,'Price':98    ,'Exp.date':'Jun25'    ,'Quantity':985     ,'Discount':6 },\n",
        "          1015:{'Name' :'Jonsons Baby'  ,'Price':85    ,'Exp.date':'Dec21'    ,'Quantity':55      ,'Discount':6 },\n",
        "          1016:{'Name' :'Detol'         ,'Price':75    ,'Exp.date':'Dec21'    ,'Quantity':963     ,'Discount':6 },\n",
        "          1017:{'Name' :'Haldi 1kg'     ,'Price':175   ,'Exp.date':'Nov22'    ,'Quantity':666     ,'Discount':15 },\n",
        "          1018:{'Name' :'Spice 1kg'     ,'Price':170   ,'Exp.date':'Nov23'    ,'Quantity':99      ,'Discount':20 },\n",
        "          1019:{'Name' :'Dhana Powdwer' ,'Price':150   ,'Exp.date':'Dec26'    ,'Quantity':998     ,'Discount':18 },\n",
        "          1020:{'Name' :'Everest Mas'   ,'Price':200   ,'Exp.date':'May22'    ,'Quantity':654     ,'Discount':22 },\n",
        "          1021:{'Name' :'Kaju'          ,'Price':780   ,'Exp.date':'Dec25'    ,'Quantity':900     ,'Discount':20 },\n",
        "          1022:{'Name' :'Badam'         ,'Price':820   ,'Exp.date':'Dec25'    ,'Quantity':950     ,'Discount':20 },\n",
        "          1023:{'Name' :'Kishmish'      ,'Price':150   ,'Exp.date':'Dec24'    ,'Quantity':922     ,'Discount':15 },\n",
        "          1024:{'Name' :'Akarod '       ,'Price':500   ,'Exp.date':'Jan30'    ,'Quantity':54      ,'Discount':25 },\n",
        "          1025:{'Name' :'Elayachi'      ,'Price':4000  ,'Exp.date':'Jan35'    ,'Quantity':800     ,'Discount':25 },\n",
        "          1026:{'Name' :'Mix Dryfruit'  ,'Price':1500  ,'Exp.date':'Aug24'    ,'Quantity':66      ,'Discount':18 },\n",
        "          1027:{'Name' :'Soyabean Oil'  ,'Price':2450  ,'Exp.date':'Sept23'   ,'Quantity':500     ,'Discount':20 },\n",
        "          1028:{'Name' :'Sarso Oil'     ,'Price':2500  ,'Exp.date':'Oct24'    ,'Quantity':205     ,'Discount':9 },\n",
        "          1029:{'Name' :'Suryaful oil'  ,'Price':3000  ,'Exp.date':'Nov30'    ,'Quantity':110     ,'Discount':15 },\n",
        "          1030:{'Name' :'Sugar'         ,'Price':3900  ,'Exp.date':'Jan23'    ,'Quantity':450     ,'Discount':30 }}"
      ],
      "execution_count": 1,
      "outputs": []
    },
    {
      "cell_type": "code",
      "metadata": {
        "id": "WvQXeckZ39SE"
      },
      "source": [
        "import json"
      ],
      "execution_count": 2,
      "outputs": []
    },
    {
      "cell_type": "code",
      "metadata": {
        "id": "s5y0jEZ34IPK"
      },
      "source": [
        "js = json.dumps(Record)"
      ],
      "execution_count": 3,
      "outputs": []
    },
    {
      "cell_type": "code",
      "metadata": {
        "colab": {
          "base_uri": "https://localhost:8080/",
          "height": 224
        },
        "id": "ivTedvHw4O8G",
        "outputId": "54790882-675a-4757-b54b-7463d0c461ff"
      },
      "source": [
        "js"
      ],
      "execution_count": 4,
      "outputs": [
        {
          "output_type": "execute_result",
          "data": {
            "application/vnd.google.colaboratory.intrinsic+json": {
              "type": "string"
            },
            "text/plain": [
              "'{\"1001\": {\"Name\": \"Parle-G\", \"Price\": 10, \"Exp.date\": \"Jan22\", \"Quantity\": 1000, \"Discount\": 5}, \"1002\": {\"Name\": \"Parle-G\", \"Price\": 50, \"Exp.date\": \"Jan22\", \"Quantity\": 2000, \"Discount\": 5}, \"1003\": {\"Name\": \"Good-Day\", \"Price\": 10, \"Exp.date\": \"Dec21\", \"Quantity\": 650, \"Discount\": 2}, \"1004\": {\"Name\": \" Happy \", \"Price\": 20, \"Exp.date\": \"Feb22\", \"Quantity\": 700, \"Discount\": 10}, \"1005\": {\"Name\": \"MarriGold\", \"Price\": 10, \"Exp.date\": \"Nov21\", \"Quantity\": 666, \"Discount\": 7}, \"1006\": {\"Name\": \"CreamBuis\", \"Price\": 55, \"Exp.date\": \"Mar22\", \"Quantity\": 987, \"Discount\": 14}, \"1007\": {\"Name\": \"Momsmajic\", \"Price\": 60, \"Exp.date\": \"Dec22\", \"Quantity\": 546, \"Discount\": 5}, \"1008\": {\"Name\": \"Shantabai\", \"Price\": 10, \"Exp.date\": \"Dec24\", \"Quantity\": 100, \"Discount\": 2}, \"1009\": {\"Name\": \"SuparNirama\", \"Price\": 55, \"Exp.date\": \"Dec25\", \"Quantity\": 540, \"Discount\": 5}, \"1010\": {\"Name\": \"Sargam Soap\", \"Price\": 110, \"Exp.date\": \"Feb22\", \"Quantity\": 5555, \"Discount\": 10}, \"1011\": {\"Name\": \"Rin\", \"Price\": 25, \"Exp.date\": \"Apr24\", \"Quantity\": 456, \"Discount\": 4}, \"1012\": {\"Name\": \"Santoor\", \"Price\": 50, \"Exp.date\": \"Mar22\", \"Quantity\": 987, \"Discount\": 8}, \"1013\": {\"Name\": \"Lifeboy\", \"Price\": 80, \"Exp.date\": \"Feb21 \", \"Quantity\": 6547, \"Discount\": 8}, \"1014\": {\"Name\": \"Lux\", \"Price\": 98, \"Exp.date\": \"Jun25\", \"Quantity\": 985, \"Discount\": 6}, \"1015\": {\"Name\": \"Jonsons Baby\", \"Price\": 85, \"Exp.date\": \"Dec21\", \"Quantity\": 55, \"Discount\": 6}, \"1016\": {\"Name\": \"Detol\", \"Price\": 75, \"Exp.date\": \"Dec21\", \"Quantity\": 963, \"Discount\": 6}, \"1017\": {\"Name\": \"Haldi 1kg\", \"Price\": 175, \"Exp.date\": \"Nov22\", \"Quantity\": 666, \"Discount\": 15}, \"1018\": {\"Name\": \"Spice 1kg\", \"Price\": 170, \"Exp.date\": \"Nov23\", \"Quantity\": 99, \"Discount\": 20}, \"1019\": {\"Name\": \"Dhana Powdwer\", \"Price\": 150, \"Exp.date\": \"Dec26\", \"Quantity\": 998, \"Discount\": 18}, \"1020\": {\"Name\": \"Everest Mas\", \"Price\": 200, \"Exp.date\": \"May22\", \"Quantity\": 654, \"Discount\": 22}, \"1021\": {\"Name\": \"Kaju\", \"Price\": 780, \"Exp.date\": \"Dec25\", \"Quantity\": 900, \"Discount\": 20}, \"1022\": {\"Name\": \"Badam\", \"Price\": 820, \"Exp.date\": \"Dec25\", \"Quantity\": 950, \"Discount\": 20}, \"1023\": {\"Name\": \"Kishmish\", \"Price\": 150, \"Exp.date\": \"Dec24\", \"Quantity\": 922, \"Discount\": 15}, \"1024\": {\"Name\": \"Akarod \", \"Price\": 500, \"Exp.date\": \"Jan30\", \"Quantity\": 54, \"Discount\": 25}, \"1025\": {\"Name\": \"Elayachi\", \"Price\": 4000, \"Exp.date\": \"Jan35\", \"Quantity\": 800, \"Discount\": 25}, \"1026\": {\"Name\": \"Mix Dryfruit\", \"Price\": 1500, \"Exp.date\": \"Aug24\", \"Quantity\": 66, \"Discount\": 18}, \"1027\": {\"Name\": \"Soyabean Oil\", \"Price\": 2450, \"Exp.date\": \"Sept23\", \"Quantity\": 500, \"Discount\": 20}, \"1028\": {\"Name\": \"Sarso Oil\", \"Price\": 2500, \"Exp.date\": \"Oct24\", \"Quantity\": 205, \"Discount\": 9}, \"1029\": {\"Name\": \"Suryaful oil\", \"Price\": 3000, \"Exp.date\": \"Nov30\", \"Quantity\": 110, \"Discount\": 15}, \"1030\": {\"Name\": \"Sugar\", \"Price\": 3900, \"Exp.date\": \"Jan23\", \"Quantity\": 450, \"Discount\": 30}}'"
            ]
          },
          "metadata": {},
          "execution_count": 4
        }
      ]
    },
    {
      "cell_type": "code",
      "metadata": {
        "id": "RpvCmqlq4TpQ"
      },
      "source": [
        "fd = open(\"Record.json\",'w')\n",
        "\n",
        "fd.write(js)\n",
        "\n",
        "fd.close()"
      ],
      "execution_count": 5,
      "outputs": []
    },
    {
      "cell_type": "code",
      "metadata": {
        "id": "jCZs5StR4aHL"
      },
      "source": [
        "fd = open('Record.json','r')\n",
        "\n",
        "txt=fd.read()\n",
        "\n",
        "fd.close()"
      ],
      "execution_count": 6,
      "outputs": []
    },
    {
      "cell_type": "code",
      "metadata": {
        "colab": {
          "base_uri": "https://localhost:8080/",
          "height": 224
        },
        "id": "MjN82aQV4gAl",
        "outputId": "ce2cc8b6-6b1b-4f59-c018-e4e9d0017de2"
      },
      "source": [
        "txt"
      ],
      "execution_count": 7,
      "outputs": [
        {
          "output_type": "execute_result",
          "data": {
            "application/vnd.google.colaboratory.intrinsic+json": {
              "type": "string"
            },
            "text/plain": [
              "'{\"1001\": {\"Name\": \"Parle-G\", \"Price\": 10, \"Exp.date\": \"Jan22\", \"Quantity\": 1000, \"Discount\": 5}, \"1002\": {\"Name\": \"Parle-G\", \"Price\": 50, \"Exp.date\": \"Jan22\", \"Quantity\": 2000, \"Discount\": 5}, \"1003\": {\"Name\": \"Good-Day\", \"Price\": 10, \"Exp.date\": \"Dec21\", \"Quantity\": 650, \"Discount\": 2}, \"1004\": {\"Name\": \" Happy \", \"Price\": 20, \"Exp.date\": \"Feb22\", \"Quantity\": 700, \"Discount\": 10}, \"1005\": {\"Name\": \"MarriGold\", \"Price\": 10, \"Exp.date\": \"Nov21\", \"Quantity\": 666, \"Discount\": 7}, \"1006\": {\"Name\": \"CreamBuis\", \"Price\": 55, \"Exp.date\": \"Mar22\", \"Quantity\": 987, \"Discount\": 14}, \"1007\": {\"Name\": \"Momsmajic\", \"Price\": 60, \"Exp.date\": \"Dec22\", \"Quantity\": 546, \"Discount\": 5}, \"1008\": {\"Name\": \"Shantabai\", \"Price\": 10, \"Exp.date\": \"Dec24\", \"Quantity\": 100, \"Discount\": 2}, \"1009\": {\"Name\": \"SuparNirama\", \"Price\": 55, \"Exp.date\": \"Dec25\", \"Quantity\": 540, \"Discount\": 5}, \"1010\": {\"Name\": \"Sargam Soap\", \"Price\": 110, \"Exp.date\": \"Feb22\", \"Quantity\": 5555, \"Discount\": 10}, \"1011\": {\"Name\": \"Rin\", \"Price\": 25, \"Exp.date\": \"Apr24\", \"Quantity\": 456, \"Discount\": 4}, \"1012\": {\"Name\": \"Santoor\", \"Price\": 50, \"Exp.date\": \"Mar22\", \"Quantity\": 987, \"Discount\": 8}, \"1013\": {\"Name\": \"Lifeboy\", \"Price\": 80, \"Exp.date\": \"Feb21 \", \"Quantity\": 6547, \"Discount\": 8}, \"1014\": {\"Name\": \"Lux\", \"Price\": 98, \"Exp.date\": \"Jun25\", \"Quantity\": 985, \"Discount\": 6}, \"1015\": {\"Name\": \"Jonsons Baby\", \"Price\": 85, \"Exp.date\": \"Dec21\", \"Quantity\": 55, \"Discount\": 6}, \"1016\": {\"Name\": \"Detol\", \"Price\": 75, \"Exp.date\": \"Dec21\", \"Quantity\": 963, \"Discount\": 6}, \"1017\": {\"Name\": \"Haldi 1kg\", \"Price\": 175, \"Exp.date\": \"Nov22\", \"Quantity\": 666, \"Discount\": 15}, \"1018\": {\"Name\": \"Spice 1kg\", \"Price\": 170, \"Exp.date\": \"Nov23\", \"Quantity\": 99, \"Discount\": 20}, \"1019\": {\"Name\": \"Dhana Powdwer\", \"Price\": 150, \"Exp.date\": \"Dec26\", \"Quantity\": 998, \"Discount\": 18}, \"1020\": {\"Name\": \"Everest Mas\", \"Price\": 200, \"Exp.date\": \"May22\", \"Quantity\": 654, \"Discount\": 22}, \"1021\": {\"Name\": \"Kaju\", \"Price\": 780, \"Exp.date\": \"Dec25\", \"Quantity\": 900, \"Discount\": 20}, \"1022\": {\"Name\": \"Badam\", \"Price\": 820, \"Exp.date\": \"Dec25\", \"Quantity\": 950, \"Discount\": 20}, \"1023\": {\"Name\": \"Kishmish\", \"Price\": 150, \"Exp.date\": \"Dec24\", \"Quantity\": 922, \"Discount\": 15}, \"1024\": {\"Name\": \"Akarod \", \"Price\": 500, \"Exp.date\": \"Jan30\", \"Quantity\": 54, \"Discount\": 25}, \"1025\": {\"Name\": \"Elayachi\", \"Price\": 4000, \"Exp.date\": \"Jan35\", \"Quantity\": 800, \"Discount\": 25}, \"1026\": {\"Name\": \"Mix Dryfruit\", \"Price\": 1500, \"Exp.date\": \"Aug24\", \"Quantity\": 66, \"Discount\": 18}, \"1027\": {\"Name\": \"Soyabean Oil\", \"Price\": 2450, \"Exp.date\": \"Sept23\", \"Quantity\": 500, \"Discount\": 20}, \"1028\": {\"Name\": \"Sarso Oil\", \"Price\": 2500, \"Exp.date\": \"Oct24\", \"Quantity\": 205, \"Discount\": 9}, \"1029\": {\"Name\": \"Suryaful oil\", \"Price\": 3000, \"Exp.date\": \"Nov30\", \"Quantity\": 110, \"Discount\": 15}, \"1030\": {\"Name\": \"Sugar\", \"Price\": 3900, \"Exp.date\": \"Jan23\", \"Quantity\": 450, \"Discount\": 30}}'"
            ]
          },
          "metadata": {},
          "execution_count": 7
        }
      ]
    },
    {
      "cell_type": "code",
      "metadata": {
        "id": "imp-7wVH4lfb"
      },
      "source": [
        "product = json.loads(txt)"
      ],
      "execution_count": 8,
      "outputs": []
    },
    {
      "cell_type": "code",
      "metadata": {
        "colab": {
          "base_uri": "https://localhost:8080/"
        },
        "id": "xPYWh6J04sXT",
        "outputId": "4a9a4f9f-bb32-4375-fddc-c5d244c3830c"
      },
      "source": [
        "product"
      ],
      "execution_count": 9,
      "outputs": [
        {
          "output_type": "execute_result",
          "data": {
            "text/plain": [
              "{'1001': {'Discount': 5,\n",
              "  'Exp.date': 'Jan22',\n",
              "  'Name': 'Parle-G',\n",
              "  'Price': 10,\n",
              "  'Quantity': 1000},\n",
              " '1002': {'Discount': 5,\n",
              "  'Exp.date': 'Jan22',\n",
              "  'Name': 'Parle-G',\n",
              "  'Price': 50,\n",
              "  'Quantity': 2000},\n",
              " '1003': {'Discount': 2,\n",
              "  'Exp.date': 'Dec21',\n",
              "  'Name': 'Good-Day',\n",
              "  'Price': 10,\n",
              "  'Quantity': 650},\n",
              " '1004': {'Discount': 10,\n",
              "  'Exp.date': 'Feb22',\n",
              "  'Name': ' Happy ',\n",
              "  'Price': 20,\n",
              "  'Quantity': 700},\n",
              " '1005': {'Discount': 7,\n",
              "  'Exp.date': 'Nov21',\n",
              "  'Name': 'MarriGold',\n",
              "  'Price': 10,\n",
              "  'Quantity': 666},\n",
              " '1006': {'Discount': 14,\n",
              "  'Exp.date': 'Mar22',\n",
              "  'Name': 'CreamBuis',\n",
              "  'Price': 55,\n",
              "  'Quantity': 987},\n",
              " '1007': {'Discount': 5,\n",
              "  'Exp.date': 'Dec22',\n",
              "  'Name': 'Momsmajic',\n",
              "  'Price': 60,\n",
              "  'Quantity': 546},\n",
              " '1008': {'Discount': 2,\n",
              "  'Exp.date': 'Dec24',\n",
              "  'Name': 'Shantabai',\n",
              "  'Price': 10,\n",
              "  'Quantity': 100},\n",
              " '1009': {'Discount': 5,\n",
              "  'Exp.date': 'Dec25',\n",
              "  'Name': 'SuparNirama',\n",
              "  'Price': 55,\n",
              "  'Quantity': 540},\n",
              " '1010': {'Discount': 10,\n",
              "  'Exp.date': 'Feb22',\n",
              "  'Name': 'Sargam Soap',\n",
              "  'Price': 110,\n",
              "  'Quantity': 5555},\n",
              " '1011': {'Discount': 4,\n",
              "  'Exp.date': 'Apr24',\n",
              "  'Name': 'Rin',\n",
              "  'Price': 25,\n",
              "  'Quantity': 456},\n",
              " '1012': {'Discount': 8,\n",
              "  'Exp.date': 'Mar22',\n",
              "  'Name': 'Santoor',\n",
              "  'Price': 50,\n",
              "  'Quantity': 987},\n",
              " '1013': {'Discount': 8,\n",
              "  'Exp.date': 'Feb21 ',\n",
              "  'Name': 'Lifeboy',\n",
              "  'Price': 80,\n",
              "  'Quantity': 6547},\n",
              " '1014': {'Discount': 6,\n",
              "  'Exp.date': 'Jun25',\n",
              "  'Name': 'Lux',\n",
              "  'Price': 98,\n",
              "  'Quantity': 985},\n",
              " '1015': {'Discount': 6,\n",
              "  'Exp.date': 'Dec21',\n",
              "  'Name': 'Jonsons Baby',\n",
              "  'Price': 85,\n",
              "  'Quantity': 55},\n",
              " '1016': {'Discount': 6,\n",
              "  'Exp.date': 'Dec21',\n",
              "  'Name': 'Detol',\n",
              "  'Price': 75,\n",
              "  'Quantity': 963},\n",
              " '1017': {'Discount': 15,\n",
              "  'Exp.date': 'Nov22',\n",
              "  'Name': 'Haldi 1kg',\n",
              "  'Price': 175,\n",
              "  'Quantity': 666},\n",
              " '1018': {'Discount': 20,\n",
              "  'Exp.date': 'Nov23',\n",
              "  'Name': 'Spice 1kg',\n",
              "  'Price': 170,\n",
              "  'Quantity': 99},\n",
              " '1019': {'Discount': 18,\n",
              "  'Exp.date': 'Dec26',\n",
              "  'Name': 'Dhana Powdwer',\n",
              "  'Price': 150,\n",
              "  'Quantity': 998},\n",
              " '1020': {'Discount': 22,\n",
              "  'Exp.date': 'May22',\n",
              "  'Name': 'Everest Mas',\n",
              "  'Price': 200,\n",
              "  'Quantity': 654},\n",
              " '1021': {'Discount': 20,\n",
              "  'Exp.date': 'Dec25',\n",
              "  'Name': 'Kaju',\n",
              "  'Price': 780,\n",
              "  'Quantity': 900},\n",
              " '1022': {'Discount': 20,\n",
              "  'Exp.date': 'Dec25',\n",
              "  'Name': 'Badam',\n",
              "  'Price': 820,\n",
              "  'Quantity': 950},\n",
              " '1023': {'Discount': 15,\n",
              "  'Exp.date': 'Dec24',\n",
              "  'Name': 'Kishmish',\n",
              "  'Price': 150,\n",
              "  'Quantity': 922},\n",
              " '1024': {'Discount': 25,\n",
              "  'Exp.date': 'Jan30',\n",
              "  'Name': 'Akarod ',\n",
              "  'Price': 500,\n",
              "  'Quantity': 54},\n",
              " '1025': {'Discount': 25,\n",
              "  'Exp.date': 'Jan35',\n",
              "  'Name': 'Elayachi',\n",
              "  'Price': 4000,\n",
              "  'Quantity': 800},\n",
              " '1026': {'Discount': 18,\n",
              "  'Exp.date': 'Aug24',\n",
              "  'Name': 'Mix Dryfruit',\n",
              "  'Price': 1500,\n",
              "  'Quantity': 66},\n",
              " '1027': {'Discount': 20,\n",
              "  'Exp.date': 'Sept23',\n",
              "  'Name': 'Soyabean Oil',\n",
              "  'Price': 2450,\n",
              "  'Quantity': 500},\n",
              " '1028': {'Discount': 9,\n",
              "  'Exp.date': 'Oct24',\n",
              "  'Name': 'Sarso Oil',\n",
              "  'Price': 2500,\n",
              "  'Quantity': 205},\n",
              " '1029': {'Discount': 15,\n",
              "  'Exp.date': 'Nov30',\n",
              "  'Name': 'Suryaful oil',\n",
              "  'Price': 3000,\n",
              "  'Quantity': 110},\n",
              " '1030': {'Discount': 30,\n",
              "  'Exp.date': 'Jan23',\n",
              "  'Name': 'Sugar',\n",
              "  'Price': 3900,\n",
              "  'Quantity': 450}}"
            ]
          },
          "metadata": {},
          "execution_count": 9
        }
      ]
    },
    {
      "cell_type": "code",
      "metadata": {
        "id": "mmFOl6x64vUP"
      },
      "source": [
        "import time"
      ],
      "execution_count": 10,
      "outputs": []
    },
    {
      "cell_type": "code",
      "metadata": {
        "colab": {
          "base_uri": "https://localhost:8080/"
        },
        "id": "5xJT79Jf43yC",
        "outputId": "d01a280e-314f-4085-acc7-79b3bf61ca4c"
      },
      "source": [
        "print(\"*****WELCOME TO THE SHOP*****\")\n",
        "\n",
        "ui_name=input('Enter the User Name :')\n",
        "\n",
        "print(product)\n",
        "\n",
        "ui_prod = str(input(\"Enter the product ID :\"))\n",
        "\n",
        "ui_quan = int(input(\"Enter the Quantity :\"))\n",
        "\n",
        "if(ui_prod in product):\n",
        "  print('Date and Time :',time.ctime())\n",
        "  print('Name of custmer :',ui_name)\n",
        "  print('Name of selected product ID :',product[ui_prod]['Name'])\n",
        "  print('Price of selected product Id :',product[ui_prod]['Price'])\n",
        "  print('*****CONGRATULATION YOU HAVE OWN DISCOUNT ON THIS PRODUCT*****')\n",
        "  print('Discount :',product[ui_prod]['Discount'])\n",
        "  print('*****PRINTING BILLING AMOUNT*****')\n",
        "  gen_bill=(product[ui_prod]['Price']*ui_quan)-((product[ui_prod]['Price']*ui_quan)*product[ui_prod]['Discount'])/100\n",
        "  print('Billing Amount :',gen_bill)\n",
        "  print(\"Thank you for visting our shop\")\n",
        "  \n",
        "\n",
        "  product[ui_prod]['Quantuty']=product[ui_prod]['Quantity']-ui_quan"
      ],
      "execution_count": 11,
      "outputs": [
        {
          "output_type": "stream",
          "name": "stdout",
          "text": [
            "*****WELCOME TO THE SHOP*****\n",
            "Enter the User Name :mayur\n",
            "{'1001': {'Name': 'Parle-G', 'Price': 10, 'Exp.date': 'Jan22', 'Quantity': 1000, 'Discount': 5}, '1002': {'Name': 'Parle-G', 'Price': 50, 'Exp.date': 'Jan22', 'Quantity': 2000, 'Discount': 5}, '1003': {'Name': 'Good-Day', 'Price': 10, 'Exp.date': 'Dec21', 'Quantity': 650, 'Discount': 2}, '1004': {'Name': ' Happy ', 'Price': 20, 'Exp.date': 'Feb22', 'Quantity': 700, 'Discount': 10}, '1005': {'Name': 'MarriGold', 'Price': 10, 'Exp.date': 'Nov21', 'Quantity': 666, 'Discount': 7}, '1006': {'Name': 'CreamBuis', 'Price': 55, 'Exp.date': 'Mar22', 'Quantity': 987, 'Discount': 14}, '1007': {'Name': 'Momsmajic', 'Price': 60, 'Exp.date': 'Dec22', 'Quantity': 546, 'Discount': 5}, '1008': {'Name': 'Shantabai', 'Price': 10, 'Exp.date': 'Dec24', 'Quantity': 100, 'Discount': 2}, '1009': {'Name': 'SuparNirama', 'Price': 55, 'Exp.date': 'Dec25', 'Quantity': 540, 'Discount': 5}, '1010': {'Name': 'Sargam Soap', 'Price': 110, 'Exp.date': 'Feb22', 'Quantity': 5555, 'Discount': 10}, '1011': {'Name': 'Rin', 'Price': 25, 'Exp.date': 'Apr24', 'Quantity': 456, 'Discount': 4}, '1012': {'Name': 'Santoor', 'Price': 50, 'Exp.date': 'Mar22', 'Quantity': 987, 'Discount': 8}, '1013': {'Name': 'Lifeboy', 'Price': 80, 'Exp.date': 'Feb21 ', 'Quantity': 6547, 'Discount': 8}, '1014': {'Name': 'Lux', 'Price': 98, 'Exp.date': 'Jun25', 'Quantity': 985, 'Discount': 6}, '1015': {'Name': 'Jonsons Baby', 'Price': 85, 'Exp.date': 'Dec21', 'Quantity': 55, 'Discount': 6}, '1016': {'Name': 'Detol', 'Price': 75, 'Exp.date': 'Dec21', 'Quantity': 963, 'Discount': 6}, '1017': {'Name': 'Haldi 1kg', 'Price': 175, 'Exp.date': 'Nov22', 'Quantity': 666, 'Discount': 15}, '1018': {'Name': 'Spice 1kg', 'Price': 170, 'Exp.date': 'Nov23', 'Quantity': 99, 'Discount': 20}, '1019': {'Name': 'Dhana Powdwer', 'Price': 150, 'Exp.date': 'Dec26', 'Quantity': 998, 'Discount': 18}, '1020': {'Name': 'Everest Mas', 'Price': 200, 'Exp.date': 'May22', 'Quantity': 654, 'Discount': 22}, '1021': {'Name': 'Kaju', 'Price': 780, 'Exp.date': 'Dec25', 'Quantity': 900, 'Discount': 20}, '1022': {'Name': 'Badam', 'Price': 820, 'Exp.date': 'Dec25', 'Quantity': 950, 'Discount': 20}, '1023': {'Name': 'Kishmish', 'Price': 150, 'Exp.date': 'Dec24', 'Quantity': 922, 'Discount': 15}, '1024': {'Name': 'Akarod ', 'Price': 500, 'Exp.date': 'Jan30', 'Quantity': 54, 'Discount': 25}, '1025': {'Name': 'Elayachi', 'Price': 4000, 'Exp.date': 'Jan35', 'Quantity': 800, 'Discount': 25}, '1026': {'Name': 'Mix Dryfruit', 'Price': 1500, 'Exp.date': 'Aug24', 'Quantity': 66, 'Discount': 18}, '1027': {'Name': 'Soyabean Oil', 'Price': 2450, 'Exp.date': 'Sept23', 'Quantity': 500, 'Discount': 20}, '1028': {'Name': 'Sarso Oil', 'Price': 2500, 'Exp.date': 'Oct24', 'Quantity': 205, 'Discount': 9}, '1029': {'Name': 'Suryaful oil', 'Price': 3000, 'Exp.date': 'Nov30', 'Quantity': 110, 'Discount': 15}, '1030': {'Name': 'Sugar', 'Price': 3900, 'Exp.date': 'Jan23', 'Quantity': 450, 'Discount': 30}}\n",
            "Enter the product ID :1001\n",
            "Enter the Quantity :2\n",
            "Date and Time : Mon Sep  6 06:55:52 2021\n",
            "Name of custmer : mayur\n",
            "Name of selected product ID : Parle-G\n",
            "Price of selected product Id : 10\n",
            "*****CONGRATULATION YOU HAVE OWN DISCOUNT ON THIS PRODUCT*****\n",
            "Discount : 5\n",
            "*****PRINTING BILLING AMOUNT*****\n",
            "Billing Amount : 19.0\n",
            "Thank you for visting our shop\n"
          ]
        }
      ]
    },
    {
      "cell_type": "code",
      "metadata": {
        "id": "qQ6y0pOa4-yv"
      },
      "source": [
        "import random"
      ],
      "execution_count": 12,
      "outputs": []
    },
    {
      "cell_type": "code",
      "metadata": {
        "id": "z_wxNz055VHK"
      },
      "source": [
        "trans_ID = random.uniform(1 , 100000)"
      ],
      "execution_count": 13,
      "outputs": []
    },
    {
      "cell_type": "code",
      "metadata": {
        "id": "5ixOTKrr5ZDB"
      },
      "source": [
        "Transaction={'trans_ID':trans_ID  ,'product':product[ui_prod]['Name']  ,'price':product[ui_prod]['Price']  ,'Quantity':ui_quan  ,'gen_bill':(product[ui_prod]['Price']*ui_quan)-((product[ui_prod]['Price']*ui_quan)*product[ui_prod]['Discount'])/100}"
      ],
      "execution_count": 14,
      "outputs": []
    },
    {
      "cell_type": "code",
      "metadata": {
        "colab": {
          "base_uri": "https://localhost:8080/"
        },
        "id": "dvpSfAW35ffo",
        "outputId": "24d697c3-115e-4456-de48-28975ef4f934"
      },
      "source": [
        "Transaction"
      ],
      "execution_count": 15,
      "outputs": [
        {
          "output_type": "execute_result",
          "data": {
            "text/plain": [
              "{'Quantity': 2,\n",
              " 'gen_bill': 19.0,\n",
              " 'price': 10,\n",
              " 'product': 'Parle-G',\n",
              " 'trans_ID': 5184.856886302043}"
            ]
          },
          "metadata": {},
          "execution_count": 15
        }
      ]
    },
    {
      "cell_type": "code",
      "metadata": {
        "id": "MRGs1pR05iHv"
      },
      "source": [
        "ts = json.dumps(Transaction)"
      ],
      "execution_count": 16,
      "outputs": []
    },
    {
      "cell_type": "code",
      "metadata": {
        "id": "gISQ5dF75qwM"
      },
      "source": [
        "ts = ts + '\\n'"
      ],
      "execution_count": 19,
      "outputs": []
    },
    {
      "cell_type": "code",
      "metadata": {
        "colab": {
          "base_uri": "https://localhost:8080/",
          "height": 55
        },
        "id": "Wg6Np0IN9jiX",
        "outputId": "dfd4da01-3c72-4b13-c0ae-40d0b533c169"
      },
      "source": [
        "ts"
      ],
      "execution_count": 20,
      "outputs": [
        {
          "output_type": "execute_result",
          "data": {
            "application/vnd.google.colaboratory.intrinsic+json": {
              "type": "string"
            },
            "text/plain": [
              "'{\"trans_ID\": 5184.856886302043, \"product\": \"Parle-G\", \"price\": 10, \"Quantity\": 2, \"gen_bill\": 19.0}\\n'"
            ]
          },
          "metadata": {},
          "execution_count": 20
        }
      ]
    },
    {
      "cell_type": "code",
      "metadata": {
        "id": "HYEBJv295th7"
      },
      "source": [
        "fd = open(\"sales.json\",'w')\n",
        "\n",
        "fd.write(ts)\n",
        "\n",
        "fd.close()"
      ],
      "execution_count": 18,
      "outputs": []
    },
    {
      "cell_type": "code",
      "metadata": {
        "id": "J6mDY3B050su"
      },
      "source": [
        ""
      ],
      "execution_count": null,
      "outputs": []
    }
  ]
}